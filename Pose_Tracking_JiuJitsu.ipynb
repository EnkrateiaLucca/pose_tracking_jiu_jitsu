{
  "cells": [
    {
      "cell_type": "code",
      "execution_count": null,
      "metadata": {
        "colab": {
          "base_uri": "https://localhost:8080/"
        },
        "id": "IvQIfrzE25Hu",
        "outputId": "d62fa410-a300-45ce-e431-4e7c76ca9c97"
      },
      "outputs": [],
      "source": [
        "!pip install numpy==1.19.3\n",
        "!pip install mediapipe"
      ]
    },
    {
      "cell_type": "code",
      "execution_count": 1,
      "metadata": {
        "id": "UzUeDmrg4xGU"
      },
      "outputs": [
        {
          "name": "stderr",
          "output_type": "stream",
          "text": [
            "2023-02-22 21:30:18.516743: I tensorflow/core/platform/cpu_feature_guard.cc:193] This TensorFlow binary is optimized with oneAPI Deep Neural Network Library (oneDNN) to use the following CPU instructions in performance-critical operations:  AVX2 FMA\n",
            "To enable them in other operations, rebuild TensorFlow with the appropriate compiler flags.\n",
            "2023-02-22 21:30:18.625149: W tensorflow/compiler/xla/stream_executor/platform/default/dso_loader.cc:64] Could not load dynamic library 'libcudart.so.11.0'; dlerror: libcudart.so.11.0: cannot open shared object file: No such file or directory; LD_LIBRARY_PATH: /home/lucassoares/.local/lib/python3.10/site-packages/cv2/../../lib64:\n",
            "2023-02-22 21:30:18.625166: I tensorflow/compiler/xla/stream_executor/cuda/cudart_stub.cc:29] Ignore above cudart dlerror if you do not have a GPU set up on your machine.\n",
            "2023-02-22 21:30:19.235495: W tensorflow/compiler/xla/stream_executor/platform/default/dso_loader.cc:64] Could not load dynamic library 'libnvinfer.so.7'; dlerror: libnvinfer.so.7: cannot open shared object file: No such file or directory; LD_LIBRARY_PATH: /home/lucassoares/.local/lib/python3.10/site-packages/cv2/../../lib64:\n",
            "2023-02-22 21:30:19.235557: W tensorflow/compiler/xla/stream_executor/platform/default/dso_loader.cc:64] Could not load dynamic library 'libnvinfer_plugin.so.7'; dlerror: libnvinfer_plugin.so.7: cannot open shared object file: No such file or directory; LD_LIBRARY_PATH: /home/lucassoares/.local/lib/python3.10/site-packages/cv2/../../lib64:\n",
            "2023-02-22 21:30:19.235564: W tensorflow/compiler/tf2tensorrt/utils/py_utils.cc:38] TF-TRT Warning: Cannot dlopen some TensorRT libraries. If you would like to use Nvidia GPU with TensorRT, please make sure the missing libraries mentioned above are installed properly.\n"
          ]
        }
      ],
      "source": [
        "import cv2\n",
        "import mediapipe as mp\n",
        "import pathlib\n",
        "import matplotlib.pyplot as plt\n",
        "from mpl_toolkits.mplot3d import Axes3D\n",
        "from matplotlib.animation import FuncAnimation"
      ]
    },
    {
      "cell_type": "code",
      "execution_count": 2,
      "metadata": {},
      "outputs": [],
      "source": [
        "mp_drawing = mp.solutions.drawing_utils\n",
        "mp_drawing_styles = mp.solutions.drawing_styles\n",
        "mp_pose = mp.solutions.pose"
      ]
    },
    {
      "cell_type": "code",
      "execution_count": 3,
      "metadata": {
        "colab": {
          "base_uri": "https://localhost:8080/"
        },
        "id": "zMAKyQ893kSr",
        "outputId": "fca8834b-9067-4e39-ea50-a60077199030"
      },
      "outputs": [
        {
          "name": "stdout",
          "output_type": "stream",
          "text": [
            "training_session_1_pose.mp4\n"
          ]
        }
      ],
      "source": [
        "# For webcam input:\n",
        "video_path = \"./training_session_1.mp4\"\n",
        "cap = cv2.VideoCapture(video_path)\n",
        "frame_width = int(cap.get(3))\n",
        "frame_height = int(cap.get(4))\n",
        "fourcc = cv2.VideoWriter_fourcc(*'mp4v')\n",
        "output_path = pathlib.Path(video_path).stem + \"_pose.mp4\" \n",
        "print(output_path)"
      ]
    },
    {
      "cell_type": "code",
      "execution_count": 4,
      "metadata": {
        "colab": {
          "base_uri": "https://localhost:8080/"
        },
        "id": "3Wk_RmGfWzg4",
        "outputId": "838fcb67-df47-41e2-b353-1e0d5a62771d"
      },
      "outputs": [
        {
          "name": "stderr",
          "output_type": "stream",
          "text": [
            "INFO: Created TensorFlow Lite XNNPACK delegate for CPU.\n"
          ]
        },
        {
          "name": "stdout",
          "output_type": "stream",
          "text": [
            "Ignoring empty camera frame.\n"
          ]
        }
      ],
      "source": [
        "pose_coords = []\n",
        "# For video input\n",
        "out = cv2.VideoWriter(output_path, fourcc, 30.0, (frame_width, frame_height))\n",
        "with mp_pose.Pose(\n",
        "    min_detection_confidence=0.5,\n",
        "    min_tracking_confidence=0.5) as pose:\n",
        "  while cap.isOpened():\n",
        "    success, image = cap.read()\n",
        "    if not success:\n",
        "      print(\"Ignoring empty camera frame.\")\n",
        "      # If loading a video, use 'break' instead of 'continue'.\n",
        "      break\n",
        "    # To improve performance, optionally mark the image as not writeable to\n",
        "    # pass by reference.\n",
        "    image.flags.writeable = False\n",
        "    image = cv2.cvtColor(image, cv2.COLOR_BGR2RGB)\n",
        "    results = pose.process(image)\n",
        "    # mp_drawing.plot_landmarks(\n",
        "    #     results.pose_world_landmarks, mp_pose.POSE_CONNECTIONS)\n",
        "    #pose_coords.append(results.pose_landmarks)\n",
        "    pose_coords.append(results)\n",
        "    # Draw the pose annotation on the image.\n",
        "    image.flags.writeable = True\n",
        "    image = cv2.cvtColor(image, cv2.COLOR_RGB2BGR)\n",
        "    mp_drawing.draw_landmarks(\n",
        "        image,\n",
        "        results.pose_landmarks,\n",
        "        mp_pose.POSE_CONNECTIONS,\n",
        "        landmark_drawing_spec=mp_drawing_styles.get_default_pose_landmarks_style())\n",
        "    # Flip the image horizontally for a selfie-view display.\n",
        "    #cv2_imshow(cv2.flip(image, 1))\n",
        "    out.write(cv2.flip(image, 1))\n",
        "    if cv2.waitKey(5) & 0xFF == 27:\n",
        "      break\n",
        "cap.release()\n",
        "out.release()"
      ]
    },
    {
      "cell_type": "code",
      "execution_count": 22,
      "metadata": {},
      "outputs": [],
      "source": [
        "left_foot_coords = [pose_coords[i].landmark[31] for i in range(len(pose_coords))]\n",
        "right_foot_coords = [pose_coords[i].landmark[32] for i in range(len(pose_coords))]"
      ]
    },
    {
      "cell_type": "code",
      "execution_count": 27,
      "metadata": {},
      "outputs": [
        {
          "name": "stderr",
          "output_type": "stream",
          "text": [
            "/home/lucassoares/anaconda3/envs/explore/lib/python3.10/site-packages/matplotlib/animation.py:880: UserWarning: Animation was deleted without rendering anything. This is most likely not intended. To prevent deletion, assign the Animation to a variable, e.g. `anim`, that exists until you output the Animation using `plt.show()` or `anim.save()`.\n",
            "  warnings.warn(\n"
          ]
        },
        {
          "data": {
            "image/png": "[encoded data removed]",
            "text/plain": [
              "<Figure size 640x480 with 1 Axes>"
            ]
          },
          "metadata": {},
          "output_type": "display_data"
        }
      ],
      "source": [
        "# import matplotlib.pyplot as plt\n",
        "\n",
        "# # Assume `coords` is a list of tuples containing the x, y, and z coordinates of the left shoulder over time\n",
        "# # The x, y, and z coordinates should be in separate lists\n",
        "# x_coords = [coord.x for coord in left_foot_coords]\n",
        "# y_coords = [coord.y for coord in left_foot_coords]\n",
        "# z_coords = [coord.z for coord in left_foot_coords]\n",
        "\n",
        "# x_coords_right = [coord.x for coord in right_foot_coords]\n",
        "# y_coords_right = [coord.y for coord in right_foot_coords]\n",
        "# z_coords_right = [coord.z for coord in right_foot_coords]\n",
        "\n",
        "\n",
        "# # Create a 3D scatter plot\n",
        "# fig = plt.figure()\n",
        "# ax = fig.add_subplot(111, projection='3d')\n",
        "# ax.scatter(x_coords, y_coords, z_coords)\n",
        "# ax.scatter(x_coords_right, y_coords_right, z_coords_right)\n",
        "# # Set the axis labels\n",
        "# ax.set_xlabel('X')\n",
        "# ax.set_ylabel('Y')\n",
        "# ax.set_zlabel('Z')\n",
        "\n",
        "# # Set the title\n",
        "# ax.set_title('Left Shoulder Movement Over Time')\n",
        "\n",
        "# # Show the plot\n",
        "# plt.show()\n",
        "\n",
        "\n",
        "\n",
        "# Assume `left_foot_coords` and `right_foot_coords` are lists of tuples containing the x, y, and z coordinates of the left and right foot over time\n",
        "# The x, y, and z coordinates should be in separate lists\n",
        "x_coords = [coord.x for coord in left_foot_coords]\n",
        "y_coords = [coord.y for coord in left_foot_coords]\n",
        "z_coords = [coord.z for coord in left_foot_coords]\n",
        "\n",
        "x_coords_right = [coord.x for coord in right_foot_coords]\n",
        "y_coords_right = [coord.y for coord in right_foot_coords]\n",
        "z_coords_right = [coord.z for coord in right_foot_coords]\n",
        "\n",
        "# Create a 3D scatter plot\n",
        "fig = plt.figure()\n",
        "ax = fig.add_subplot(111, projection='3d')\n",
        "ax.set_xlabel('X')\n",
        "ax.set_ylabel('Y')\n",
        "ax.set_zlabel('Z')\n",
        "ax.set_title('Foot Movement Over Time')\n",
        "\n",
        "def update(frame):\n",
        "    ax.clear()\n",
        "    ax.set_xlabel('X')\n",
        "    ax.set_ylabel('Y')\n",
        "    ax.set_zlabel('Z')\n",
        "    ax.set_title('Foot Movement Over Time')\n",
        "    ax.scatter(x_coords[:frame], y_coords[:frame], z_coords[:frame])\n",
        "    ax.scatter(x_coords_right[:frame], y_coords_right[:frame], z_coords_right[:frame])\n",
        "\n",
        "ani = FuncAnimation(fig, update, frames=len(x_coords), interval=5)\n",
        "ani.save('animation.mp4', writer='ffmpeg', fps=30)\n",
        "#plt.show()"
      ]
    },
    {
      "cell_type": "code",
      "execution_count": 5,
      "metadata": {},
      "outputs": [],
      "source": [
        "import pandas as pd\n",
        "import plotly.graph_objects as go\n",
        "import plotly.express as px\n",
        "\n",
        "_PRESENCE_THRESHOLD = 0.5\n",
        "_VISIBILITY_THRESHOLD = 0.5\n",
        "\n",
        "\n",
        "def plot_landmarks(\n",
        "    landmark_list,\n",
        "    connections=None,\n",
        "):\n",
        "    if not landmark_list:\n",
        "        return\n",
        "    plotted_landmarks = {}\n",
        "    for idx, landmark in enumerate(landmark_list.landmark):\n",
        "        if (\n",
        "            landmark.HasField(\"visibility\")\n",
        "            and landmark.visibility < _VISIBILITY_THRESHOLD\n",
        "        ) or (\n",
        "            landmark.HasField(\"presence\") and landmark.presence < _PRESENCE_THRESHOLD\n",
        "        ):\n",
        "            continue\n",
        "        plotted_landmarks[idx] = (-landmark.z, landmark.x, -landmark.y)\n",
        "    if connections:\n",
        "        out_cn = []\n",
        "        num_landmarks = len(landmark_list.landmark)\n",
        "        # Draws the connections if the start and end landmarks are both visible.\n",
        "        for connection in connections:\n",
        "            start_idx = connection[0]\n",
        "            end_idx = connection[1]\n",
        "            if not (0 <= start_idx < num_landmarks and 0 <= end_idx < num_landmarks):\n",
        "                raise ValueError(\n",
        "                    f\"Landmark index is out of range. Invalid connection \"\n",
        "                    f\"from landmark #{start_idx} to landmark #{end_idx}.\"\n",
        "                )\n",
        "            if start_idx in plotted_landmarks and end_idx in plotted_landmarks:\n",
        "                landmark_pair = [\n",
        "                    plotted_landmarks[start_idx],\n",
        "                    plotted_landmarks[end_idx],\n",
        "                ]\n",
        "                out_cn.append(\n",
        "                    dict(\n",
        "                        xs=[landmark_pair[0][0], landmark_pair[1][0]],\n",
        "                        ys=[landmark_pair[0][1], landmark_pair[1][1]],\n",
        "                        zs=[landmark_pair[0][2], landmark_pair[1][2]],\n",
        "                    )\n",
        "                )\n",
        "        cn2 = {\"xs\": [], \"ys\": [], \"zs\": []}\n",
        "        for pair in out_cn:\n",
        "            for k in pair.keys():\n",
        "                cn2[k].append(pair[k][0])\n",
        "                cn2[k].append(pair[k][1])\n",
        "                cn2[k].append(None)\n",
        "\n",
        "    df = pd.DataFrame(plotted_landmarks).T.rename(columns={0: \"z\", 1: \"x\", 2: \"y\"})\n",
        "    df[\"lm\"] = df.index.map(lambda s: mp_pose.PoseLandmark(s).name).values\n",
        "    fig = (\n",
        "        px.scatter_3d(df, x=\"z\", y=\"x\", z=\"y\", hover_name=\"lm\")\n",
        "        .update_traces(marker={\"color\": \"red\"})\n",
        "        .update_layout(\n",
        "            margin={\"l\": 0, \"r\": 0, \"t\": 0, \"b\": 0},\n",
        "            scene={\"camera\": {\"eye\": {\"x\": 2.1, \"y\": 0, \"z\": 0}}},\n",
        "        )\n",
        "    )\n",
        "    fig.add_traces(\n",
        "        [\n",
        "            go.Scatter3d(\n",
        "                x=cn2[\"xs\"],\n",
        "                y=cn2[\"ys\"],\n",
        "                z=cn2[\"zs\"],\n",
        "                mode=\"lines\",\n",
        "                line={\"color\": \"black\", \"width\": 5},\n",
        "                name=\"connections\",\n",
        "            )\n",
        "        ]\n",
        "    )\n",
        "\n",
        "    return fig"
      ]
    },
    {
      "cell_type": "code",
      "execution_count": 10,
      "metadata": {},
      "outputs": [
        {
          "data": {
            "application/vnd.plotly.v1+json": {
              "config": {
                "plotlyServerURL": "https://plot.ly"
              },
              "data": [
                {
                  "hovertemplate": "<b>%{hovertext}</b><br><br>z=%{x}<br>x=%{y}<br>y=%{z}<extra></extra>",
                  "hovertext": [
                    "NOSE",
                    "LEFT_EYE_INNER",
                    "LEFT_EYE",
                    "LEFT_EYE_OUTER",
                    "RIGHT_EYE_INNER",
                    "RIGHT_EYE",
                    "RIGHT_EYE_OUTER",
                    "LEFT_EAR",
                    "RIGHT_EAR",
                    "MOUTH_LEFT",
                    "MOUTH_RIGHT",
                    "LEFT_SHOULDER",
                    "RIGHT_SHOULDER",
                    "LEFT_ELBOW",
                    "RIGHT_ELBOW",
                    "LEFT_WRIST",
                    "RIGHT_WRIST",
                    "LEFT_PINKY",
                    "RIGHT_PINKY",
                    "LEFT_INDEX",
                    "RIGHT_INDEX",
                    "LEFT_THUMB",
                    "RIGHT_THUMB",
                    "LEFT_HIP",
                    "RIGHT_HIP",
                    "LEFT_KNEE",
                    "RIGHT_KNEE",
                    "LEFT_ANKLE",
                    "RIGHT_ANKLE",
                    "LEFT_HEEL",
                    "RIGHT_HEEL",
                    "LEFT_FOOT_INDEX",
                    "RIGHT_FOOT_INDEX"
                  ],
                  "legendgroup": "",
                  "marker": {
                    "color": "red",
                    "symbol": "circle"
                  },
                  "mode": "markers",
                  "name": "",
                  "scene": "scene",
                  "showlegend": false,
                  "type": "scatter3d",
                  "x": [
                    0.08606301993131638,
                    0.07343898713588715,
                    0.07344067841768265,
                    0.07341320812702179,
                    0.09504000842571259,
                    0.0950460135936737,
                    0.09507794678211212,
                    0.002806952456012368,
                    0.10989981889724731,
                    0.05872097611427307,
                    0.08734618872404099,
                    -0.05656271055340767,
                    0.11182926595211029,
                    -0.13611635565757751,
                    0.1222529411315918,
                    -0.12292510271072388,
                    0.13685917854309082,
                    -0.12183533608913422,
                    0.15042844414710999,
                    -0.0967954769730568,
                    0.16608984768390656,
                    -0.11087270826101303,
                    0.14204120635986328,
                    -0.053021110594272614,
                    0.05308632180094719,
                    -0.11829163879156113,
                    0.014226831495761871,
                    -0.21357198059558868,
                    -0.07469753921031952,
                    -0.21986253559589386,
                    -0.07860873639583588,
                    -0.17052173614501953,
                    0.002031265292316675
                  ],
                  "y": [
                    0.3168124556541443,
                    0.3155064582824707,
                    0.31525400280952454,
                    0.3148042857646942,
                    0.31358781456947327,
                    0.31209421157836914,
                    0.31014224886894226,
                    0.3049737215042114,
                    0.2979385554790497,
                    0.31379833817481995,
                    0.31106501817703247,
                    0.3079833686351776,
                    0.25340747833251953,
                    0.33447569608688354,
                    0.23336640000343323,
                    0.3783212900161743,
                    0.23675128817558289,
                    0.39161115884780884,
                    0.23605811595916748,
                    0.3920808732509613,
                    0.24369966983795166,
                    0.38675928115844727,
                    0.2460932433605194,
                    0.2974015176296234,
                    0.2639419734477997,
                    0.30673345923423767,
                    0.26366767287254333,
                    0.30118876695632935,
                    0.26295191049575806,
                    0.29479140043258667,
                    0.25945425033569336,
                    0.33287709951400757,
                    0.2825368046760559
                  ],
                  "z": [
                    -0.4267919361591339,
                    -0.4135838449001312,
                    -0.4128025472164154,
                    -0.41193288564682007,
                    -0.4129900634288788,
                    -0.41180017590522766,
                    -0.4103662371635437,
                    -0.4114018678665161,
                    -0.4093998670578003,
                    -0.43756595253944397,
                    -0.4370259940624237,
                    -0.47054558992385864,
                    -0.47441160678863525,
                    -0.5107595324516296,
                    -0.5708996653556824,
                    -0.5098414421081543,
                    -0.6677038669586182,
                    -0.5112815499305725,
                    -0.7020972371101379,
                    -0.508268415927887,
                    -0.6980754137039185,
                    -0.5085536241531372,
                    -0.6881818771362305,
                    -0.6637108325958252,
                    -0.6680649518966675,
                    -0.785408079624176,
                    -0.8009843826293945,
                    -0.9072495102882385,
                    -0.929278552532196,
                    -0.9254439473152161,
                    -0.9451033473014832,
                    -0.9358364343643188,
                    -0.9673596620559692
                  ]
                },
                {
                  "line": {
                    "color": "black",
                    "width": 5
                  },
                  "mode": "lines",
                  "name": "connections",
                  "type": "scatter3d",
                  "x": [
                    -0.12292510271072388,
                    -0.11087270826101303,
                    null,
                    0.13685917854309082,
                    0.16608984768390656,
                    null,
                    0.15042844414710999,
                    0.16608984768390656,
                    null,
                    0.07341320812702179,
                    0.002806952456012368,
                    null,
                    0.1222529411315918,
                    0.13685917854309082,
                    null,
                    -0.053021110594272614,
                    -0.11829163879156113,
                    null,
                    -0.07469753921031952,
                    -0.07860873639583588,
                    null,
                    -0.05656271055340767,
                    -0.053021110594272614,
                    null,
                    -0.21357198059558868,
                    -0.17052173614501953,
                    null,
                    0.09507794678211212,
                    0.10989981889724731,
                    null,
                    -0.12292510271072388,
                    -0.12183533608913422,
                    null,
                    0.05308632180094719,
                    0.014226831495761871,
                    null,
                    0.13685917854309082,
                    0.14204120635986328,
                    null,
                    0.09504000842571259,
                    0.0950460135936737,
                    null,
                    0.0950460135936737,
                    0.09507794678211212,
                    null,
                    -0.21986253559589386,
                    -0.17052173614501953,
                    null,
                    0.11182926595211029,
                    0.05308632180094719,
                    null,
                    -0.053021110594272614,
                    0.05308632180094719,
                    null,
                    0.08606301993131638,
                    0.07343898713588715,
                    null,
                    0.05872097611427307,
                    0.08734618872404099,
                    null,
                    0.07343898713588715,
                    0.07344067841768265,
                    null,
                    0.08606301993131638,
                    0.09504000842571259,
                    null,
                    -0.05656271055340767,
                    -0.13611635565757751,
                    null,
                    -0.07860873639583588,
                    0.002031265292316675,
                    null,
                    -0.07469753921031952,
                    0.002031265292316675,
                    null,
                    -0.12292510271072388,
                    -0.0967954769730568,
                    null,
                    0.13685917854309082,
                    0.15042844414710999,
                    null,
                    -0.11829163879156113,
                    -0.21357198059558868,
                    null,
                    0.014226831495761871,
                    -0.07469753921031952,
                    null,
                    0.11182926595211029,
                    0.1222529411315918,
                    null,
                    -0.12183533608913422,
                    -0.0967954769730568,
                    null,
                    0.07344067841768265,
                    0.07341320812702179,
                    null,
                    -0.05656271055340767,
                    0.11182926595211029,
                    null,
                    -0.21357198059558868,
                    -0.21986253559589386,
                    null,
                    -0.13611635565757751,
                    -0.12292510271072388,
                    null
                  ],
                  "y": [
                    0.3783212900161743,
                    0.38675928115844727,
                    null,
                    0.23675128817558289,
                    0.24369966983795166,
                    null,
                    0.23605811595916748,
                    0.24369966983795166,
                    null,
                    0.3148042857646942,
                    0.3049737215042114,
                    null,
                    0.23336640000343323,
                    0.23675128817558289,
                    null,
                    0.2974015176296234,
                    0.30673345923423767,
                    null,
                    0.26295191049575806,
                    0.25945425033569336,
                    null,
                    0.3079833686351776,
                    0.2974015176296234,
                    null,
                    0.30118876695632935,
                    0.33287709951400757,
                    null,
                    0.31014224886894226,
                    0.2979385554790497,
                    null,
                    0.3783212900161743,
                    0.39161115884780884,
                    null,
                    0.2639419734477997,
                    0.26366767287254333,
                    null,
                    0.23675128817558289,
                    0.2460932433605194,
                    null,
                    0.31358781456947327,
                    0.31209421157836914,
                    null,
                    0.31209421157836914,
                    0.31014224886894226,
                    null,
                    0.29479140043258667,
                    0.33287709951400757,
                    null,
                    0.25340747833251953,
                    0.2639419734477997,
                    null,
                    0.2974015176296234,
                    0.2639419734477997,
                    null,
                    0.3168124556541443,
                    0.3155064582824707,
                    null,
                    0.31379833817481995,
                    0.31106501817703247,
                    null,
                    0.3155064582824707,
                    0.31525400280952454,
                    null,
                    0.3168124556541443,
                    0.31358781456947327,
                    null,
                    0.3079833686351776,
                    0.33447569608688354,
                    null,
                    0.25945425033569336,
                    0.2825368046760559,
                    null,
                    0.26295191049575806,
                    0.2825368046760559,
                    null,
                    0.3783212900161743,
                    0.3920808732509613,
                    null,
                    0.23675128817558289,
                    0.23605811595916748,
                    null,
                    0.30673345923423767,
                    0.30118876695632935,
                    null,
                    0.26366767287254333,
                    0.26295191049575806,
                    null,
                    0.25340747833251953,
                    0.23336640000343323,
                    null,
                    0.39161115884780884,
                    0.3920808732509613,
                    null,
                    0.31525400280952454,
                    0.3148042857646942,
                    null,
                    0.3079833686351776,
                    0.25340747833251953,
                    null,
                    0.30118876695632935,
                    0.29479140043258667,
                    null,
                    0.33447569608688354,
                    0.3783212900161743,
                    null
                  ],
                  "z": [
                    -0.5098414421081543,
                    -0.5085536241531372,
                    null,
                    -0.6677038669586182,
                    -0.6980754137039185,
                    null,
                    -0.7020972371101379,
                    -0.6980754137039185,
                    null,
                    -0.41193288564682007,
                    -0.4114018678665161,
                    null,
                    -0.5708996653556824,
                    -0.6677038669586182,
                    null,
                    -0.6637108325958252,
                    -0.785408079624176,
                    null,
                    -0.929278552532196,
                    -0.9451033473014832,
                    null,
                    -0.47054558992385864,
                    -0.6637108325958252,
                    null,
                    -0.9072495102882385,
                    -0.9358364343643188,
                    null,
                    -0.4103662371635437,
                    -0.4093998670578003,
                    null,
                    -0.5098414421081543,
                    -0.5112815499305725,
                    null,
                    -0.6680649518966675,
                    -0.8009843826293945,
                    null,
                    -0.6677038669586182,
                    -0.6881818771362305,
                    null,
                    -0.4129900634288788,
                    -0.41180017590522766,
                    null,
                    -0.41180017590522766,
                    -0.4103662371635437,
                    null,
                    -0.9254439473152161,
                    -0.9358364343643188,
                    null,
                    -0.47441160678863525,
                    -0.6680649518966675,
                    null,
                    -0.6637108325958252,
                    -0.6680649518966675,
                    null,
                    -0.4267919361591339,
                    -0.4135838449001312,
                    null,
                    -0.43756595253944397,
                    -0.4370259940624237,
                    null,
                    -0.4135838449001312,
                    -0.4128025472164154,
                    null,
                    -0.4267919361591339,
                    -0.4129900634288788,
                    null,
                    -0.47054558992385864,
                    -0.5107595324516296,
                    null,
                    -0.9451033473014832,
                    -0.9673596620559692,
                    null,
                    -0.929278552532196,
                    -0.9673596620559692,
                    null,
                    -0.5098414421081543,
                    -0.508268415927887,
                    null,
                    -0.6677038669586182,
                    -0.7020972371101379,
                    null,
                    -0.785408079624176,
                    -0.9072495102882385,
                    null,
                    -0.8009843826293945,
                    -0.929278552532196,
                    null,
                    -0.47441160678863525,
                    -0.5708996653556824,
                    null,
                    -0.5112815499305725,
                    -0.508268415927887,
                    null,
                    -0.4128025472164154,
                    -0.41193288564682007,
                    null,
                    -0.47054558992385864,
                    -0.47441160678863525,
                    null,
                    -0.9072495102882385,
                    -0.9254439473152161,
                    null,
                    -0.5107595324516296,
                    -0.5098414421081543,
                    null
                  ]
                }
              ],
              "layout": {
                "legend": {
                  "tracegroupgap": 0
                },
                "margin": {
                  "b": 0,
                  "l": 0,
                  "r": 0,
                  "t": 0
                },
                "scene": {
                  "camera": {
                    "eye": {
                      "x": 2.1,
                      "y": 0,
                      "z": 0
                    }
                  },
                  "domain": {
                    "x": [
                      0,
                      1
                    ],
                    "y": [
                      0,
                      1
                    ]
                  },
                  "xaxis": {
                    "title": {
                      "text": "z"
                    }
                  },
                  "yaxis": {
                    "title": {
                      "text": "x"
                    }
                  },
                  "zaxis": {
                    "title": {
                      "text": "y"
                    }
                  }
                },
                "template": {
                  "data": {
                    "bar": [
                      {
                        "error_x": {
                          "color": "#2a3f5f"
                        },
                        "error_y": {
                          "color": "#2a3f5f"
                        },
                        "marker": {
                          "line": {
                            "color": "#E5ECF6",
                            "width": 0.5
                          },
                          "pattern": {
                            "fillmode": "overlay",
                            "size": 10,
                            "solidity": 0.2
                          }
                        },
                        "type": "bar"
                      }
                    ],
                    "barpolar": [
                      {
                        "marker": {
                          "line": {
                            "color": "#E5ECF6",
                            "width": 0.5
                          },
                          "pattern": {
                            "fillmode": "overlay",
                            "size": 10,
                            "solidity": 0.2
                          }
                        },
                        "type": "barpolar"
                      }
                    ],
                    "carpet": [
                      {
                        "aaxis": {
                          "endlinecolor": "#2a3f5f",
                          "gridcolor": "white",
                          "linecolor": "white",
                          "minorgridcolor": "white",
                          "startlinecolor": "#2a3f5f"
                        },
                        "baxis": {
                          "endlinecolor": "#2a3f5f",
                          "gridcolor": "white",
                          "linecolor": "white",
                          "minorgridcolor": "white",
                          "startlinecolor": "#2a3f5f"
                        },
                        "type": "carpet"
                      }
                    ],
                    "choropleth": [
                      {
                        "colorbar": {
                          "outlinewidth": 0,
                          "ticks": ""
                        },
                        "type": "choropleth"
                      }
                    ],
                    "contour": [
                      {
                        "colorbar": {
                          "outlinewidth": 0,
                          "ticks": ""
                        },
                        "colorscale": [
                          [
                            0,
                            "#0d0887"
                          ],
                          [
                            0.1111111111111111,
                            "#46039f"
                          ],
                          [
                            0.2222222222222222,
                            "#7201a8"
                          ],
                          [
                            0.3333333333333333,
                            "#9c179e"
                          ],
                          [
                            0.4444444444444444,
                            "#bd3786"
                          ],
                          [
                            0.5555555555555556,
                            "#d8576b"
                          ],
                          [
                            0.6666666666666666,
                            "#ed7953"
                          ],
                          [
                            0.7777777777777778,
                            "#fb9f3a"
                          ],
                          [
                            0.8888888888888888,
                            "#fdca26"
                          ],
                          [
                            1,
                            "#f0f921"
                          ]
                        ],
                        "type": "contour"
                      }
                    ],
                    "contourcarpet": [
                      {
                        "colorbar": {
                          "outlinewidth": 0,
                          "ticks": ""
                        },
                        "type": "contourcarpet"
                      }
                    ],
                    "heatmap": [
                      {
                        "colorbar": {
                          "outlinewidth": 0,
                          "ticks": ""
                        },
                        "colorscale": [
                          [
                            0,
                            "#0d0887"
                          ],
                          [
                            0.1111111111111111,
                            "#46039f"
                          ],
                          [
                            0.2222222222222222,
                            "#7201a8"
                          ],
                          [
                            0.3333333333333333,
                            "#9c179e"
                          ],
                          [
                            0.4444444444444444,
                            "#bd3786"
                          ],
                          [
                            0.5555555555555556,
                            "#d8576b"
                          ],
                          [
                            0.6666666666666666,
                            "#ed7953"
                          ],
                          [
                            0.7777777777777778,
                            "#fb9f3a"
                          ],
                          [
                            0.8888888888888888,
                            "#fdca26"
                          ],
                          [
                            1,
                            "#f0f921"
                          ]
                        ],
                        "type": "heatmap"
                      }
                    ],
                    "heatmapgl": [
                      {
                        "colorbar": {
                          "outlinewidth": 0,
                          "ticks": ""
                        },
                        "colorscale": [
                          [
                            0,
                            "#0d0887"
                          ],
                          [
                            0.1111111111111111,
                            "#46039f"
                          ],
                          [
                            0.2222222222222222,
                            "#7201a8"
                          ],
                          [
                            0.3333333333333333,
                            "#9c179e"
                          ],
                          [
                            0.4444444444444444,
                            "#bd3786"
                          ],
                          [
                            0.5555555555555556,
                            "#d8576b"
                          ],
                          [
                            0.6666666666666666,
                            "#ed7953"
                          ],
                          [
                            0.7777777777777778,
                            "#fb9f3a"
                          ],
                          [
                            0.8888888888888888,
                            "#fdca26"
                          ],
                          [
                            1,
                            "#f0f921"
                          ]
                        ],
                        "type": "heatmapgl"
                      }
                    ],
                    "histogram": [
                      {
                        "marker": {
                          "pattern": {
                            "fillmode": "overlay",
                            "size": 10,
                            "solidity": 0.2
                          }
                        },
                        "type": "histogram"
                      }
                    ],
                    "histogram2d": [
                      {
                        "colorbar": {
                          "outlinewidth": 0,
                          "ticks": ""
                        },
                        "colorscale": [
                          [
                            0,
                            "#0d0887"
                          ],
                          [
                            0.1111111111111111,
                            "#46039f"
                          ],
                          [
                            0.2222222222222222,
                            "#7201a8"
                          ],
                          [
                            0.3333333333333333,
                            "#9c179e"
                          ],
                          [
                            0.4444444444444444,
                            "#bd3786"
                          ],
                          [
                            0.5555555555555556,
                            "#d8576b"
                          ],
                          [
                            0.6666666666666666,
                            "#ed7953"
                          ],
                          [
                            0.7777777777777778,
                            "#fb9f3a"
                          ],
                          [
                            0.8888888888888888,
                            "#fdca26"
                          ],
                          [
                            1,
                            "#f0f921"
                          ]
                        ],
                        "type": "histogram2d"
                      }
                    ],
                    "histogram2dcontour": [
                      {
                        "colorbar": {
                          "outlinewidth": 0,
                          "ticks": ""
                        },
                        "colorscale": [
                          [
                            0,
                            "#0d0887"
                          ],
                          [
                            0.1111111111111111,
                            "#46039f"
                          ],
                          [
                            0.2222222222222222,
                            "#7201a8"
                          ],
                          [
                            0.3333333333333333,
                            "#9c179e"
                          ],
                          [
                            0.4444444444444444,
                            "#bd3786"
                          ],
                          [
                            0.5555555555555556,
                            "#d8576b"
                          ],
                          [
                            0.6666666666666666,
                            "#ed7953"
                          ],
                          [
                            0.7777777777777778,
                            "#fb9f3a"
                          ],
                          [
                            0.8888888888888888,
                            "#fdca26"
                          ],
                          [
                            1,
                            "#f0f921"
                          ]
                        ],
                        "type": "histogram2dcontour"
                      }
                    ],
                    "mesh3d": [
                      {
                        "colorbar": {
                          "outlinewidth": 0,
                          "ticks": ""
                        },
                        "type": "mesh3d"
                      }
                    ],
                    "parcoords": [
                      {
                        "line": {
                          "colorbar": {
                            "outlinewidth": 0,
                            "ticks": ""
                          }
                        },
                        "type": "parcoords"
                      }
                    ],
                    "pie": [
                      {
                        "automargin": true,
                        "type": "pie"
                      }
                    ],
                    "scatter": [
                      {
                        "fillpattern": {
                          "fillmode": "overlay",
                          "size": 10,
                          "solidity": 0.2
                        },
                        "type": "scatter"
                      }
                    ],
                    "scatter3d": [
                      {
                        "line": {
                          "colorbar": {
                            "outlinewidth": 0,
                            "ticks": ""
                          }
                        },
                        "marker": {
                          "colorbar": {
                            "outlinewidth": 0,
                            "ticks": ""
                          }
                        },
                        "type": "scatter3d"
                      }
                    ],
                    "scattercarpet": [
                      {
                        "marker": {
                          "colorbar": {
                            "outlinewidth": 0,
                            "ticks": ""
                          }
                        },
                        "type": "scattercarpet"
                      }
                    ],
                    "scattergeo": [
                      {
                        "marker": {
                          "colorbar": {
                            "outlinewidth": 0,
                            "ticks": ""
                          }
                        },
                        "type": "scattergeo"
                      }
                    ],
                    "scattergl": [
                      {
                        "marker": {
                          "colorbar": {
                            "outlinewidth": 0,
                            "ticks": ""
                          }
                        },
                        "type": "scattergl"
                      }
                    ],
                    "scattermapbox": [
                      {
                        "marker": {
                          "colorbar": {
                            "outlinewidth": 0,
                            "ticks": ""
                          }
                        },
                        "type": "scattermapbox"
                      }
                    ],
                    "scatterpolar": [
                      {
                        "marker": {
                          "colorbar": {
                            "outlinewidth": 0,
                            "ticks": ""
                          }
                        },
                        "type": "scatterpolar"
                      }
                    ],
                    "scatterpolargl": [
                      {
                        "marker": {
                          "colorbar": {
                            "outlinewidth": 0,
                            "ticks": ""
                          }
                        },
                        "type": "scatterpolargl"
                      }
                    ],
                    "scatterternary": [
                      {
                        "marker": {
                          "colorbar": {
                            "outlinewidth": 0,
                            "ticks": ""
                          }
                        },
                        "type": "scatterternary"
                      }
                    ],
                    "surface": [
                      {
                        "colorbar": {
                          "outlinewidth": 0,
                          "ticks": ""
                        },
                        "colorscale": [
                          [
                            0,
                            "#0d0887"
                          ],
                          [
                            0.1111111111111111,
                            "#46039f"
                          ],
                          [
                            0.2222222222222222,
                            "#7201a8"
                          ],
                          [
                            0.3333333333333333,
                            "#9c179e"
                          ],
                          [
                            0.4444444444444444,
                            "#bd3786"
                          ],
                          [
                            0.5555555555555556,
                            "#d8576b"
                          ],
                          [
                            0.6666666666666666,
                            "#ed7953"
                          ],
                          [
                            0.7777777777777778,
                            "#fb9f3a"
                          ],
                          [
                            0.8888888888888888,
                            "#fdca26"
                          ],
                          [
                            1,
                            "#f0f921"
                          ]
                        ],
                        "type": "surface"
                      }
                    ],
                    "table": [
                      {
                        "cells": {
                          "fill": {
                            "color": "#EBF0F8"
                          },
                          "line": {
                            "color": "white"
                          }
                        },
                        "header": {
                          "fill": {
                            "color": "#C8D4E3"
                          },
                          "line": {
                            "color": "white"
                          }
                        },
                        "type": "table"
                      }
                    ]
                  },
                  "layout": {
                    "annotationdefaults": {
                      "arrowcolor": "#2a3f5f",
                      "arrowhead": 0,
                      "arrowwidth": 1
                    },
                    "autotypenumbers": "strict",
                    "coloraxis": {
                      "colorbar": {
                        "outlinewidth": 0,
                        "ticks": ""
                      }
                    },
                    "colorscale": {
                      "diverging": [
                        [
                          0,
                          "#8e0152"
                        ],
                        [
                          0.1,
                          "#c51b7d"
                        ],
                        [
                          0.2,
                          "#de77ae"
                        ],
                        [
                          0.3,
                          "#f1b6da"
                        ],
                        [
                          0.4,
                          "#fde0ef"
                        ],
                        [
                          0.5,
                          "#f7f7f7"
                        ],
                        [
                          0.6,
                          "#e6f5d0"
                        ],
                        [
                          0.7,
                          "#b8e186"
                        ],
                        [
                          0.8,
                          "#7fbc41"
                        ],
                        [
                          0.9,
                          "#4d9221"
                        ],
                        [
                          1,
                          "#276419"
                        ]
                      ],
                      "sequential": [
                        [
                          0,
                          "#0d0887"
                        ],
                        [
                          0.1111111111111111,
                          "#46039f"
                        ],
                        [
                          0.2222222222222222,
                          "#7201a8"
                        ],
                        [
                          0.3333333333333333,
                          "#9c179e"
                        ],
                        [
                          0.4444444444444444,
                          "#bd3786"
                        ],
                        [
                          0.5555555555555556,
                          "#d8576b"
                        ],
                        [
                          0.6666666666666666,
                          "#ed7953"
                        ],
                        [
                          0.7777777777777778,
                          "#fb9f3a"
                        ],
                        [
                          0.8888888888888888,
                          "#fdca26"
                        ],
                        [
                          1,
                          "#f0f921"
                        ]
                      ],
                      "sequentialminus": [
                        [
                          0,
                          "#0d0887"
                        ],
                        [
                          0.1111111111111111,
                          "#46039f"
                        ],
                        [
                          0.2222222222222222,
                          "#7201a8"
                        ],
                        [
                          0.3333333333333333,
                          "#9c179e"
                        ],
                        [
                          0.4444444444444444,
                          "#bd3786"
                        ],
                        [
                          0.5555555555555556,
                          "#d8576b"
                        ],
                        [
                          0.6666666666666666,
                          "#ed7953"
                        ],
                        [
                          0.7777777777777778,
                          "#fb9f3a"
                        ],
                        [
                          0.8888888888888888,
                          "#fdca26"
                        ],
                        [
                          1,
                          "#f0f921"
                        ]
                      ]
                    },
                    "colorway": [
                      "#636efa",
                      "#EF553B",
                      "#00cc96",
                      "#ab63fa",
                      "#FFA15A",
                      "#19d3f3",
                      "#FF6692",
                      "#B6E880",
                      "#FF97FF",
                      "#FECB52"
                    ],
                    "font": {
                      "color": "#2a3f5f"
                    },
                    "geo": {
                      "bgcolor": "white",
                      "lakecolor": "white",
                      "landcolor": "#E5ECF6",
                      "showlakes": true,
                      "showland": true,
                      "subunitcolor": "white"
                    },
                    "hoverlabel": {
                      "align": "left"
                    },
                    "hovermode": "closest",
                    "mapbox": {
                      "style": "light"
                    },
                    "paper_bgcolor": "white",
                    "plot_bgcolor": "#E5ECF6",
                    "polar": {
                      "angularaxis": {
                        "gridcolor": "white",
                        "linecolor": "white",
                        "ticks": ""
                      },
                      "bgcolor": "#E5ECF6",
                      "radialaxis": {
                        "gridcolor": "white",
                        "linecolor": "white",
                        "ticks": ""
                      }
                    },
                    "scene": {
                      "xaxis": {
                        "backgroundcolor": "#E5ECF6",
                        "gridcolor": "white",
                        "gridwidth": 2,
                        "linecolor": "white",
                        "showbackground": true,
                        "ticks": "",
                        "zerolinecolor": "white"
                      },
                      "yaxis": {
                        "backgroundcolor": "#E5ECF6",
                        "gridcolor": "white",
                        "gridwidth": 2,
                        "linecolor": "white",
                        "showbackground": true,
                        "ticks": "",
                        "zerolinecolor": "white"
                      },
                      "zaxis": {
                        "backgroundcolor": "#E5ECF6",
                        "gridcolor": "white",
                        "gridwidth": 2,
                        "linecolor": "white",
                        "showbackground": true,
                        "ticks": "",
                        "zerolinecolor": "white"
                      }
                    },
                    "shapedefaults": {
                      "line": {
                        "color": "#2a3f5f"
                      }
                    },
                    "ternary": {
                      "aaxis": {
                        "gridcolor": "white",
                        "linecolor": "white",
                        "ticks": ""
                      },
                      "baxis": {
                        "gridcolor": "white",
                        "linecolor": "white",
                        "ticks": ""
                      },
                      "bgcolor": "#E5ECF6",
                      "caxis": {
                        "gridcolor": "white",
                        "linecolor": "white",
                        "ticks": ""
                      }
                    },
                    "title": {
                      "x": 0.05
                    },
                    "xaxis": {
                      "automargin": true,
                      "gridcolor": "white",
                      "linecolor": "white",
                      "ticks": "",
                      "title": {
                        "standoff": 15
                      },
                      "zerolinecolor": "white",
                      "zerolinewidth": 2
                    },
                    "yaxis": {
                      "automargin": true,
                      "gridcolor": "white",
                      "linecolor": "white",
                      "ticks": "",
                      "title": {
                        "standoff": 15
                      },
                      "zerolinecolor": "white",
                      "zerolinewidth": 2
                    }
                  }
                }
              }
            }
          },
          "metadata": {},
          "output_type": "display_data"
        }
      ],
      "source": [
        "\n",
        "plot_landmarks(pose_coords[200].pose_landmarks,  mp_pose.POSE_CONNECTIONS)"
      ]
    },
    {
      "cell_type": "code",
      "execution_count": null,
      "metadata": {},
      "outputs": [],
      "source": [
        "# import matplotlib.pyplot as plt\n",
        "# from mpl_toolkits.mplot3d import Axes3D\n",
        "\n",
        "\n",
        "# position_index = 0\n",
        "# landmarks = pose_coords[position_index].landmark\n",
        "# x = [landmark.x for landmark in landmarks]\n",
        "# y = [landmark.y for landmark in landmarks]\n",
        "# z = [landmark.z for landmark in landmarks]\n",
        "\n",
        "# fig = plt.figure()\n",
        "# ax = fig.add_subplot(111, projection='3d')\n",
        "# ax.scatter(x, y, z)\n",
        "# plt.show()"
      ]
    },
    {
      "cell_type": "code",
      "execution_count": 6,
      "metadata": {},
      "outputs": [
        {
          "name": "stderr",
          "output_type": "stream",
          "text": [
            "/home/lucassoares/anaconda3/envs/explore/lib/python3.10/site-packages/matplotlib/animation.py:1732: UserWarning: Can not start iterating the frames for the initial draw. This can be caused by passing in a 0 length sequence for *frames*.\n",
            "\n",
            "If you passed *frames* as a generator it may be exhausted due to a previous display or save.\n",
            "  warnings.warn(\n"
          ]
        },
        {
          "ename": "ValueError",
          "evalue": "Indices for islice() must be None or an integer: 0 <= x <= sys.maxsize.",
          "output_type": "error",
          "traceback": [
            "\u001b[0;31m---------------------------------------------------------------------------\u001b[0m",
            "\u001b[0;31mValueError\u001b[0m                                Traceback (most recent call last)",
            "Cell \u001b[0;32mIn[6], line 30\u001b[0m\n\u001b[1;32m     27\u001b[0m         \u001b[39mprint\u001b[39m(i)\n\u001b[1;32m     29\u001b[0m ani \u001b[39m=\u001b[39m FuncAnimation(fig, update, frames\u001b[39m=\u001b[39m\u001b[39mlen\u001b[39m(pose_coords)\u001b[39m-\u001b[39m\u001b[39m5\u001b[39m, interval\u001b[39m=\u001b[39m\u001b[39m5\u001b[39m)\n\u001b[0;32m---> 30\u001b[0m ani\u001b[39m.\u001b[39;49msave(\u001b[39m'\u001b[39;49m\u001b[39manimation.mp4\u001b[39;49m\u001b[39m'\u001b[39;49m, writer\u001b[39m=\u001b[39;49m\u001b[39m'\u001b[39;49m\u001b[39mffmpeg\u001b[39;49m\u001b[39m'\u001b[39;49m, fps\u001b[39m=\u001b[39;49m\u001b[39m30\u001b[39;49m)\n",
            "File \u001b[0;32m~/anaconda3/envs/explore/lib/python3.10/site-packages/matplotlib/animation.py:1092\u001b[0m, in \u001b[0;36mAnimation.save\u001b[0;34m(self, filename, writer, fps, dpi, codec, bitrate, extra_args, metadata, extra_anim, savefig_kwargs, progress_callback)\u001b[0m\n\u001b[1;32m   1090\u001b[0m \u001b[39melse\u001b[39;00m:\n\u001b[1;32m   1091\u001b[0m     total_frames \u001b[39m=\u001b[39m \u001b[39msum\u001b[39m(save_count_list)\n\u001b[0;32m-> 1092\u001b[0m \u001b[39mfor\u001b[39;00m data \u001b[39min\u001b[39;00m \u001b[39mzip\u001b[39m(\u001b[39m*\u001b[39m[a\u001b[39m.\u001b[39mnew_saved_frame_seq() \u001b[39mfor\u001b[39;00m a \u001b[39min\u001b[39;00m all_anim]):\n\u001b[1;32m   1093\u001b[0m     \u001b[39mfor\u001b[39;00m anim, d \u001b[39min\u001b[39;00m \u001b[39mzip\u001b[39m(all_anim, data):\n\u001b[1;32m   1094\u001b[0m         \u001b[39m# TODO: See if turning off blit is really necessary\u001b[39;00m\n\u001b[1;32m   1095\u001b[0m         anim\u001b[39m.\u001b[39m_draw_next_frame(d, blit\u001b[39m=\u001b[39m\u001b[39mFalse\u001b[39;00m)\n",
            "File \u001b[0;32m~/anaconda3/envs/explore/lib/python3.10/site-packages/matplotlib/animation.py:1092\u001b[0m, in \u001b[0;36m<listcomp>\u001b[0;34m(.0)\u001b[0m\n\u001b[1;32m   1090\u001b[0m \u001b[39melse\u001b[39;00m:\n\u001b[1;32m   1091\u001b[0m     total_frames \u001b[39m=\u001b[39m \u001b[39msum\u001b[39m(save_count_list)\n\u001b[0;32m-> 1092\u001b[0m \u001b[39mfor\u001b[39;00m data \u001b[39min\u001b[39;00m \u001b[39mzip\u001b[39m(\u001b[39m*\u001b[39m[a\u001b[39m.\u001b[39;49mnew_saved_frame_seq() \u001b[39mfor\u001b[39;00m a \u001b[39min\u001b[39;00m all_anim]):\n\u001b[1;32m   1093\u001b[0m     \u001b[39mfor\u001b[39;00m anim, d \u001b[39min\u001b[39;00m \u001b[39mzip\u001b[39m(all_anim, data):\n\u001b[1;32m   1094\u001b[0m         \u001b[39m# TODO: See if turning off blit is really necessary\u001b[39;00m\n\u001b[1;32m   1095\u001b[0m         anim\u001b[39m.\u001b[39m_draw_next_frame(d, blit\u001b[39m=\u001b[39m\u001b[39mFalse\u001b[39;00m)\n",
            "File \u001b[0;32m~/anaconda3/envs/explore/lib/python3.10/site-packages/matplotlib/animation.py:1717\u001b[0m, in \u001b[0;36mFuncAnimation.new_saved_frame_seq\u001b[0;34m(self)\u001b[0m\n\u001b[1;32m   1715\u001b[0m     \u001b[39mreturn\u001b[39;00m gen()\n\u001b[1;32m   1716\u001b[0m \u001b[39melse\u001b[39;00m:\n\u001b[0;32m-> 1717\u001b[0m     \u001b[39mreturn\u001b[39;00m itertools\u001b[39m.\u001b[39;49mislice(\u001b[39mself\u001b[39;49m\u001b[39m.\u001b[39;49mnew_frame_seq(), \u001b[39mself\u001b[39;49m\u001b[39m.\u001b[39;49m_save_count)\n",
            "\u001b[0;31mValueError\u001b[0m: Indices for islice() must be None or an integer: 0 <= x <= sys.maxsize."
          ]
        },
        {
          "data": {
            "image/png": "[encoded data removed]",
            "text/plain": [
              "<Figure size 640x480 with 1 Axes>"
            ]
          },
          "metadata": {},
          "output_type": "display_data"
        }
      ],
      "source": [
        "import matplotlib.pyplot as plt\n",
        "from mpl_toolkits.mplot3d import Axes3D\n",
        "from matplotlib.animation import FuncAnimation\n",
        "\n",
        "fig = plt.figure()\n",
        "ax = fig.add_subplot(111, projection='3d')\n",
        "\n",
        "def update(i):\n",
        "    ax.clear()\n",
        "    try:\n",
        "        landmarks = pose_coords[i].landmark\n",
        "        x = [landmark.x for landmark in landmarks]\n",
        "        y = [landmark.y for landmark in landmarks]\n",
        "        z = [landmark.z for landmark in landmarks]\n",
        "        ax.scatter(x, y, z)\n",
        "        # # Plot lines connecting the keypoints\n",
        "        # lines = [\n",
        "        #     (0, 1), (0, 15), (0, 16), (1, 2), (1, 5), (1, 8), (2, 3),\n",
        "        #     (3, 4), (5, 6), (6, 7), (8, 9), (8, 12), (9, 10), (10, 11),\n",
        "        #     (11, 22), (11, 24), (12, 13), (13, 14), (14, 19), (14, 21),\n",
        "        #     (15, 17), (16, 18), (19, 20), (22, 23), (24, 25)\n",
        "        # ]\n",
        "        \n",
        "        # for line in lines:\n",
        "        #     ax.plot([x[line[0]], x[line[1]]], [y[line[0]], y[line[1]]], [z[line[0]], z[line[1]]])\n",
        "    except:\n",
        "        print(i)\n",
        "\n",
        "ani = FuncAnimation(fig, update, frames=len(pose_coords)-5, interval=5)\n",
        "ani.save('animation.mp4', writer='ffmpeg', fps=30)"
      ]
    },
    {
      "attachments": {},
      "cell_type": "markdown",
      "metadata": {},
      "source": [
        "The pose landmarks are this:\n",
        "\n",
        "Another list of pose landmarks in world coordinates. Each landmark consists of the following:\n",
        "\n",
        "x, y and z: Real-world 3D coordinates in meters with the origin at the center between hips.\n",
        "visibility: Identical to that defined in the corresponding\n",
        "\n",
        "[source](https://google.github.io/mediapipe/solutions/pose.html)"
      ]
    },
    {
      "cell_type": "code",
      "execution_count": null,
      "metadata": {
        "colab": {
          "base_uri": "https://localhost:8080/"
        },
        "id": "XyTpMk5N4umS",
        "outputId": "14c40441-3d45-4d73-b8b6-ba06d0302425"
      },
      "outputs": [],
      "source": [
        "from IPython.display import HTML\n",
        "from base64 import b64encode\n",
        "import os\n",
        "\n",
        "# Input video path\n",
        "save_path = \"./uchimata_wall_pose.mp4\"\n",
        "\n",
        "# Compressed video path\n",
        "compressed_path = f\"./{save_path[:-4]}_compressed.mp4\"\n",
        "\n",
        "os.system(f\"ffmpeg -i {save_path} -vcodec libx264 {compressed_path}\")"
      ]
    },
    {
      "cell_type": "code",
      "execution_count": null,
      "metadata": {
        "colab": {
          "base_uri": "https://localhost:8080/",
          "height": 247
        },
        "id": "PlPATxvEWFnL",
        "outputId": "815570a0-e1c1-424b-8ed3-c623a824d178"
      },
      "outputs": [],
      "source": [
        "# Show video\n",
        "mp4 = open(compressed_path,'rb').read()\n",
        "data_url = \"data:video/mp4;base64,\" + b64encode(mp4).decode()\n",
        "HTML(\"\"\"\n",
        "<video width=400 controls>\n",
        "      <source src=\"%s\" type=\"video/mp4\">\n",
        "</video>\n",
        "\"\"\" % data_url)"
      ]
    }
  ],
  "metadata": {
    "colab": {
      "provenance": []
    },
    "kernelspec": {
      "display_name": "explore",
      "language": "python",
      "name": "explore"
    },
    "language_info": {
      "codemirror_mode": {
        "name": "ipython",
        "version": 3
      },
      "file_extension": ".py",
      "mimetype": "text/x-python",
      "name": "python",
      "nbconvert_exporter": "python",
      "pygments_lexer": "ipython3",
      "version": "3.10.9"
    }
  },
  "nbformat": 4,
  "nbformat_minor": 0
}

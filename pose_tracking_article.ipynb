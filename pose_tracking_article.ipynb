{
  "cells": [
    {
      "attachments": {},
      "cell_type": "markdown",
      "metadata": {},
      "source": [
        "Installing the requirements."
      ]
    },
    {
      "attachments": {},
      "cell_type": "markdown",
      "metadata": {},
      "source": [
        "# Pose Tracking To Get Better at Jiu Jitsu\n",
        "\n",
        "Brazilian Jiu Jitsu is a martial art that has been getting a lot of popularity recently due to its effectiveness and applicability in real world combat.\n",
        "\n",
        "As someone who has been practicing it for quite a while now this martial art I wanted to investigate if I could use machine learning to help me improve my jiu jitsu abilities. Therefore, I decided to turn to pose estimation as a technique that shows a lot of promise as a complimentary tool for practioners of all sorts of sports and martial arts including jiu jitsu.\n",
        "\n",
        "In this article, I would like to show you how I am using pose tracking to enhance feedback correction when performing certain fighting movements."
      ]
    },
    {
      "attachments": {},
      "cell_type": "markdown",
      "metadata": {},
      "source": [
        "# Why Pose Tracking for Jiu Jitsu?\n",
        "\n",
        "I've been a practioner of brazilian jiu jitsu for over 10 years now. Having recently gotten my black belt, I felt really excited to join my interests in martial arts and machine learning to try and come up with a project that lived at the intersection of these 2 really interesting fields.\n",
        "\n",
        "Now, for those of you who are unaware, pose tracking is the process of using computer vision models to obtain the key points of the body joints obtained from a video (leveraging object detection models and other advanced techniques).\n",
        "\n",
        "Jiu jitsu is a martial art that is largely based on its practioner's ability to perform and execute techniques to perfection. Such a demand can sometimes mean a great deal of frustration for people that struggle in executing certain types of movements. Usually, in the normal environment of a jiu jitsu gym, the black belt coach will give the feedback to the student regarding the appropriateness of his or her execution of the technique. However, its often the case that people want to learn how to perform certain movements but either don't have the access to an expert, or the class contains too many students and it becomes difficult for the person conducting the class to give specific and personal feedback regarding whether or not the student is performing the movements correctly.\n",
        "\n",
        "Within this potential gap of feedback is that I think tools like pose tracking can greatly benefit the world of martial arts in general and jiu jitsu in particular (although one can argue the same for Judo, Wrestling and striking-based martial arts as well). \n",
        "\n",
        "The form of this feedback is something that would have to be developed, and this article is an attempt to provide directions for how such a machine learning based feedback system would work for helping students get better at performing foundational movements in the sport."
      ]
    },
    {
      "attachments": {},
      "cell_type": "markdown",
      "metadata": {},
      "source": [
        "# Why Did I Do This?\n",
        "\n",
        "Ok, so here is the story.\n",
        "\n",
        "If you are unfamiliar with Jiu Jitsu, let me give you the quick rundown of how it works. \n",
        "\n",
        "Jiu Jitsu is a martial art that focuses on grappling and ground fighting techniques. It was developed in Japan and later modified and popularized in Brazil. But now, it has spread all over the world due to its increase in popularity particularly in the United States.\n",
        "The basic principle of Jiu Jitsu is that a smaller, weaker person can defend against a larger, stronger opponent by using leverage and technique. Jiu Jitsu practitioners aim to control their opponent's body and position themselves into a dominant position where they can execute techniques such as chokes, joint locks, and throws. Jiu Jitsu is now a popular sport and self-defense system practiced all over the world. It requires physical and mental discipline, as well as a willingness to learn and adapt. Jiu Jitsu has also been found to have numerous benefits, including improved physical fitness and mental acuity, increased confidence and self-esteem, and stress relief. \n",
        "\n",
        "Usually when you develop your jiu jitsu skills, you end up falling under one of 2 categories: bottom player, or top player. That means whether you tend to play from the bottom using your \"guard\" (a reference to the usage of the legs to perform attacks on the opponent)\n",
        "or from top by first taking down your opponent and then proceding to pass the line of their legs to (usually) reach one of a dominant position like being mounted on your opponent or taking his back. \n",
        "\n",
        "Such a duality is obviously artificial, and usually most experienced players can play both positions extremely well. However, it is the case that people tend to lean towards preferences in the beggining of their journey in jiu jitsu, and that can hugely impact their progress in other areas if they get stuck executing the same strategy over and over. \n",
        "\n",
        "In a way, thats what happened to me, I used to fight a lot as a guard player, due to a predominant culture in Brazil that fosters starting the grappling bouts from the knees to avoid either injuries and because the mat space is not big enough like Wrestling mats in big High School Gyms in the US. This habit of sitting down and fighting from the back willingly without my opponent actually having to take me down, had a negative impact in my development as a martial artist, because as I became better and better at Jiu Jitsu, I realized that one thing holding up my development was indeed my lack of high level knowledge on how to take people down.\n",
        "\n",
        "This ignited a fire in me to start working more from standing position, and I went on to study and practice Wrestling and Judo when I was a couple of years into my brown belt. Over the last 2 years I have been mostly a bottom player, and indeed improved quite a bit my ability to take people to the ground. However, there are certain foundational movements in Judo for example that are extremely difficult to develop, and because I don't know any Judo experts, nor do I live close to any high level Judo or Wrestling gym, I realized that I needed another way to improve certain Judo based movements for Jiu Jitsu, specifically a movement called \"The Uchimata\".\n",
        "\n",
        "# Machine Learning Comes In\n",
        "\n",
        "Ok, so with the goal of improving my ability to perform Judo throwns like the Uchimata, I concocted a \"geeky\" plan: Im gonna use Machine Learning! \n",
        "\n",
        "**MACHINE LEARNING FUNNY MEME**\n",
        "\n",
        "On a more serious note, I decided I wanted to use Computer Vision to create some sort of virtual fighting coach that could correct things like my posture, track the speed of certain movements, etc...\n",
        "\n",
        "To do that I needed to first start recording my training sessions, at least the ones where I am actively learning a certain move. \n",
        "\n",
        "**show some recordings footage**\n",
        "\n",
        "Besides that, I also needed a reference video of an elite level practioner performing the move I was trying to learn. I will share here the example of the Uchimata. I found this video of olympic level players performing a warm up technique against the wall:\n",
        "\n",
        "\n",
        "<video src=\"./videos/uchimata_wall.mp4\" controls>\n",
        "  Your browser does not support the video tag.\n",
        "</video>"
      ]
    },
    {
      "attachments": {},
      "cell_type": "markdown",
      "metadata": {},
      "source": [
        "Ok, great! IN posession of the reference video, and now having recorded some of my own, I was ready to try out some fun machine learning stuff.\n",
        "\n",
        "For the pose tracking I used something called [`mediapipe`](https://google.github.io/mediapipe/), Google's open source project for facilitating applying machine learning to live and streaming media.\n",
        "\n",
        "![](2023-03-02-09-51-24.png)\n",
        "\n",
        "\n",
        "<video src=\"./videos/pose_world_landmarks.mp4\" controls>\n",
        "  Your browser does not support the video tag.\n",
        "</video>\n"
      ]
    },
    {
      "attachments": {},
      "cell_type": "markdown",
      "metadata": {},
      "source": [
        "The ease of use of this option got me excited to try it out.\n",
        "\n",
        "In essence I did the following:\n",
        "\n",
        "1. First I created some videos with the pose estimation overlayed \n",
        "2. Then I created some fancy plots to showcase the execution of the movements\n",
        "3. I follow to create traces that represented the execution of a certain move at a given time\n",
        "4. After that I attempted to compare the traces produced by my attempts to a reference trace produced by the expert's video\n",
        "5. I generated some other fancy plots to see the coordinates of the different body joints displayed in realtime\n",
        "\n",
        "Let's take a look!"
      ]
    },
    {
      "attachments": {},
      "cell_type": "markdown",
      "metadata": {},
      "source": [
        "# The Preliminary Results\n",
        "\n",
        "## 1. Pose Estimation overlayed\n",
        "\n",
        "The expert: \n",
        "<video src=\"./videos/uchimata_wall_pose_compressed.mp4\" controls>\n",
        "  Your browser does not support the video tag.\n",
        "</video>\n",
        "\n",
        "Me!\n",
        "\n",
        "![clip_training_pose_2.gif](clip_training_pose_2.gif)"
      ]
    },
    {
      "attachments": {},
      "cell_type": "markdown",
      "metadata": {},
      "source": [
        "Yes, yes I know, I don't look exactly elite level. But give me a break, my Judo skills are under construction!\n",
        "\n",
        "Ok, so now that I had these little videos (which are nice to look at but don't give exactly a lot of insight)\n",
        "I moved to creating some fancier plots.\n",
        "\n",
        "## Fancy Plots with Pose Tracking\n",
        "\n",
        "![](clip_pose_gif.gif)\n"
      ]
    },
    {
      "attachments": {},
      "cell_type": "markdown",
      "metadata": {},
      "source": [
        "These plots not only look cool, but they point to the main useful feature of this approach,\n",
        "I can now look at how the different parts of my body behave in time when attempting to perform the move!\n",
        "\n",
        "To illustrate that, I created some trace visualizations of relevant body joints like the feet (which is really important when performing this technique).\n",
        "\n",
        "# 3. Creating Traces of Motion\n",
        "\n",
        "To have an idea of how the move is performed it can be helpful to produce a visualization that represents the execution of that movement from the perspective of each body part, like I did below:\n",
        "\n",
        "![](images/clip_training_session_2_trace.gif)\n",
        "\n",
        "I did it both for my training sessions and for the reference video containing the\n",
        "motion I was trying to imitate. It's important to note here that there are many issues with doing this that regard the resolution of the camera, the distance at which the movements were performed as well as the frame rate of the recording of each video, however I am just going to bypass all of that to create a fancy plot (LoL).\n",
        "\n",
        "![](images/uchimata_wall_trace.gif)\n"
      ]
    },
    {
      "attachments": {},
      "cell_type": "markdown",
      "metadata": {},
      "source": [
        "# 4. Comparing the Traces\n",
        "\n",
        "Now, in posession of these trace plots, I could now go onto compare then! Sure, \n",
        "there are many issues regarding things like frame rate, video resolution and so on, but with respect to the shape\n",
        "of the traces, thats something I could normalize and compare too see if I could leverage some insight!\n",
        "\n",
        "And indeed it did! As we can observe from the following plots, the elite judoka is able to turn the feet\n",
        "and make an entire half circle with the motion of this feet, while mine was clearly less than that due to my current lack of flexibility!\n",
        "\n",
        "This is great because it gives me somethign to focus on (which in this case is to stretch).\n",
        "\n",
        "**show the comparison here!**\n",
        "\n",
        "Besides that, I wanted to see if I could make comparisons regarding the speed with which the moves are performed, to analyse that I \n",
        "visualized the realtime motion of the coordinates of the body joints in time, putting the plots of me and the expert side by side to\n",
        "see how off is my timing.\n",
        "\n",
        "**show the plot here!**\n",
        "\n",
        "# 5. Generating Fancy Plots"
      ]
    }
  ],
  "metadata": {
    "colab": {
      "provenance": []
    },
    "kernelspec": {
      "display_name": "explore",
      "language": "python",
      "name": "explore"
    },
    "language_info": {
      "codemirror_mode": {
        "name": "ipython",
        "version": 3
      },
      "file_extension": ".py",
      "mimetype": "text/x-python",
      "name": "python",
      "nbconvert_exporter": "python",
      "pygments_lexer": "ipython3",
      "version": "3.10.9"
    }
  },
  "nbformat": 4,
  "nbformat_minor": 0
}

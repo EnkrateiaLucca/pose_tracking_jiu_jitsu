{
  "cells": [
    {
      "attachments": {},
      "cell_type": "markdown",
      "metadata": {},
      "source": [
        "Installing the requirements."
      ]
    },
    {
      "attachments": {},
      "cell_type": "markdown",
      "metadata": {},
      "source": [
        "# Pose Tracking To Get Better at Jiu Jitsu\n",
        "\n",
        "Brazilian Jiu Jitsu is a martial art that has been getting a lot of popularity recently due to its effectiveness and applicability in real world combat.\n",
        "\n",
        "I've been a practioner of brazilian jiu jitsu for over 10 years now. Having recently gotten my black belt, I felt really excited to join my interests in martial arts and machine learning to try and come up with a project that lived at the intersection of these 2 really interesting fields.\n",
        "\n",
        "Therefore, I decided to turn to pose estimation as a technique that shows a lot of promise as a complimentary tool for practioners of all sorts of sports and martial arts including jiu jitsu.\n",
        "\n",
        "In this article, I would like to share with you how I am using pose tracking to enhance feedback correction when performing certain fighting movements."
      ]
    },
    {
      "attachments": {},
      "cell_type": "markdown",
      "metadata": {},
      "source": [
        "# What is Pose Tracking?\n",
        "\n",
        "Pose tracking is the process of detecting and tracking the movement of a person's body in real-time using computer vision technology. It involves using algorithms to capture and interpret the movement of various body parts, such as the arms, legs, and torso. This technique can be highly relevant for analyzing body movement in sports, as it allows coaches and athletes to identify and correct movement patterns that may be negatively impacting performance or causing injuries. \n",
        "\n",
        "By analyzing body movement in real-time, coaches and athletes can make adjustments to their technique, leading to improved performance and reduced risk of injury. Additionally, this technology can be used to compare an athlete's movements to those of top performers in their sport, allowing them to identify areas for improvement and refine their technique accordingly.\n",
        "\n",
        "\n",
        "# What is Jiu Jitsu?\n",
        "\n",
        "\n",
        "\n",
        "Jiu jitsu is a martial art centered around the idea of subduing opponents through a combination of pins and submission holds like joint locks and chokes. \n",
        "\n",
        "Jiu Jitsu is a martial art that focuses on grappling and ground fighting techniques. It was initially developed in Japan and later modified and popularized in Brazil. But now, it has spread all over the world due to its increase in popularity particularly in the United States.\n",
        "\n",
        "The basic principle of Jiu Jitsu is that a smaller, weaker person can defend against a larger, stronger opponent by using leverage and technique. Jiu Jitsu practitioners aim to control their opponent's body and position themselves into a dominant position where they can execute techniques such as chokes, joint locks, and throws. Jiu Jitsu is now a popular sport and self-defense system practiced all over the world. It requires physical and mental discipline, as well as a willingness to learn and adapt. It has also been found to have numerous benefits, including improved physical fitness and mental acuity, increased confidence and self-esteem, and stress relief. \n",
        "\n",
        "**image**\n",
        "\n",
        "# Why Pose Tracking for Jiu Jitsu\n",
        "\n",
        "The large emphasis on technique makes this martial art quite unique, and in the context of a jiu jitsu gym, it is usually the role of the black belt coach to give feedback to the student regarding the appropriateness of his or her execution different techniques. \n",
        "\n",
        "However, its often the case that people want to learn but either don't have the access to an expert, or the class contains too many students and it becomes difficult for the person conducting the class to give specific and personal feedback regarding whether or not the student is performing the movements correctly.\n",
        "\n",
        "Within this gap of feedback is that I think tools like pose tracking can greatly benefit the world of martial arts in general and jiu jitsu in particular (although one can argue the same for Judo, Wrestling and striking-based martial arts as well). \n",
        "\n",
        "The form of this feedback is something that would have to be developed, and this article is an attempt to provide directions for how such a machine learning based feedback system would work for helping students get better at performing foundational movements in the sport."
      ]
    },
    {
      "attachments": {},
      "cell_type": "markdown",
      "metadata": {},
      "source": [
        "# Why Did I Do This?\n",
        "\n",
        "Ok, so here is the story.\n",
        "\n",
        "\n",
        "Usually when you develop your jiu jitsu skills, you end up falling under one of 2 categories: bottom player, or top player. That means whether you tend to play from the bottom using your \"guard\" (a reference to the usage of the legs to perform attacks on the opponent) or from top by first taking down your opponent and then proceding to pass the line of their legs to (usually) reach one of a dominant position like being mounted on your opponent or taking his/her back. \n",
        "\n",
        "**image**\n",
        "\n",
        "Such a duality is obviously artificial, and usually most experienced players can play both positions extremely well. However, it is the case that people tend to lean towards preferences in the beggining of their journey in jiu jitsu, and that can hugely impact their progress in other areas if they get stuck executing the same strategy over and over. \n",
        "\n",
        "In a way, thats what happened to me, I used to fight a lot as a guard player, due to a predominant culture in Brazil that fosters starting the grappling bouts from the knees to avoid either injuries or because the mat space is not big enough like Wrestling mats in big High School Gyms in the US. \n",
        "\n",
        "This habit of sitting down and fighting from the back willingly without my opponent actually having to take me down, had a negative impact in my development as a martial artist, because as I became better and better at Jiu Jitsu, I realized that one thing holding me back was indeed my lack of high level knowledge on how to take people down.\n",
        "\n",
        "This ignited a fire in me to start working more from standing position, and I went on to study and practice Wrestling and Judo when I was a couple of years into my brown belt. Over the last 2 years I have been mostly a top player, and indeed improved quite a bit my ability to take people to the ground. \n",
        "\n",
        "However, there are certain foundational movements in Judo for example that are extremely difficult to develop, and because I don't know any Judo experts, nor do I live close to any high level Judo or Wrestling gyms, I realized that I needed another way to improve certain foundational movements, specifically a movement called \"The Uchimata\".\n",
        "\n",
        "**image**\n",
        "\n",
        "**maybe explain the uchimata and show a gif?**\n",
        "\n",
        "![](images/uchimata_wall.gif)"
      ]
    },
    {
      "attachments": {},
      "cell_type": "markdown",
      "metadata": {},
      "source": [
        "# Machine Learning Comes In\n",
        "\n",
        "Ok, so with the goal of improving my ability to perform Judo throwns like the Uchimata, I concocted a \"geeky\" plan: Im gonna use Machine Learning (I know, such an specific plan). \n",
        "\n",
        "**MACHINE LEARNING FUNNY MEME**\n",
        "\n",
        "![](2023-03-07-17-11-10.png)"
      ]
    },
    {
      "attachments": {},
      "cell_type": "markdown",
      "metadata": {},
      "source": [
        "I decided I wanted to investigate whether or not I could use Pose Tracking to gather insigh on how to correct things like my posture, track the speed of certain movements, etc...\n",
        "\n",
        "So let's get into how I did that."
      ]
    },
    {
      "attachments": {},
      "cell_type": "markdown",
      "metadata": {},
      "source": [
        "# Steps on Using Pose Tracking to Generate Insights for Jiu Jitsu"
      ]
    },
    {
      "attachments": {},
      "cell_type": "markdown",
      "metadata": {},
      "source": [
        "The overall plan was this:\n",
        "\n",
        "1. Find a video reference containing the movement I was looking to emulate\n",
        "2. Record myself performing the movement many times\n",
        "3. Generate insights using pose tracking and visualization with Python.\n",
        "\n",
        "\n",
        "To do all of that I needed a reference video of an elite level practioner performing the move I was trying to learn. In the case of the uchimata, I found this video of an olympic level player performing a warm up technique against the wall that is directly relevant to what I wanted to learn:\n",
        "\n",
        "<video src=\"./videos/uchimata_wall.mp4\" controls>\n",
        "  Your browser does not support the video tag.\n",
        "</video> \n",
        "\n",
        "Then I started recording myself performing the movement, at least the ones where I am actively learning a \n",
        "certain move. \n",
        "\n",
        "![](./images/clip_training_session_2.gif)"
      ]
    },
    {
      "attachments": {},
      "cell_type": "markdown",
      "metadata": {},
      "source": [
        "IN posession of the reference video, and now having recorded some of my own footage, I was ready to try out some fun machine learning stuff."
      ]
    },
    {
      "attachments": {},
      "cell_type": "markdown",
      "metadata": {},
      "source": [
        "# Pose Tracking to Track Body Joints"
      ]
    },
    {
      "attachments": {},
      "cell_type": "markdown",
      "metadata": {},
      "source": [
        "For the pose tracking I used something called [`mediapipe`](https://google.github.io/mediapipe/), Google's open source project for facilitating the application of machine learning to live and streaming media.\n",
        "\n",
        "![](./images/mediapipe.png)\n",
        "\n",
        "**Add captions!**"
      ]
    },
    {
      "attachments": {},
      "cell_type": "markdown",
      "metadata": {},
      "source": [
        "The ease of use of this option got me excited to try it out.\n",
        "\n",
        "In essence I did the following:\n",
        "\n",
        "1. First I created some videos with the pose estimation overlayed \n",
        "2. Then I created some fancy plots to showcase the execution of the movements\n",
        "3. I follow to create traces that represented the execution of a certain move at a given time\n",
        "4. After that I attempted to compare the traces produced by my attempts to a reference trace produced by the expert's video\n",
        "5. I generated some other fancy plots to see the coordinates of the different body joints displayed in realtime\n",
        "6. Then I kind of stopped because I ran out of ideas"
      ]
    },
    {
      "attachments": {},
      "cell_type": "markdown",
      "metadata": {},
      "source": [
        "# The Preliminary Results\n",
        "\n",
        "## 1. Pose Estimation overlayed\n",
        "\n",
        "I wrote this code to create videos where the model estimates the position of the body joints\n",
        "and overlays them in the actual footage to showcase the robustness of the model.\n",
        "\n",
        "![](./images/uchimata_wall_pose_compressed.gif)\n",
        "\n",
        "\n",
        "![clip_training_pose_2.gif](./images/clip_training_pose_2.gif)"
      ]
    },
    {
      "attachments": {},
      "cell_type": "markdown",
      "metadata": {},
      "source": [
        "Yes, yes I know, I don't look exactly elite level. But give me a break, my Judo skills are under construction!\n",
        "\n",
        "The code I used for this was:"
      ]
    },
    {
      "cell_type": "code",
      "execution_count": 1,
      "metadata": {},
      "outputs": [
        {
          "name": "stderr",
          "output_type": "stream",
          "text": [
            "2023-03-07 17:28:20.453545: I tensorflow/core/platform/cpu_feature_guard.cc:193] This TensorFlow binary is optimized with oneAPI Deep Neural Network Library (oneDNN) to use the following CPU instructions in performance-critical operations:  AVX2 FMA\n",
            "To enable them in other operations, rebuild TensorFlow with the appropriate compiler flags.\n",
            "2023-03-07 17:28:20.598587: W tensorflow/compiler/xla/stream_executor/platform/default/dso_loader.cc:64] Could not load dynamic library 'libcudart.so.11.0'; dlerror: libcudart.so.11.0: cannot open shared object file: No such file or directory; LD_LIBRARY_PATH: /home/lucassoares/.local/lib/python3.10/site-packages/cv2/../../lib64:\n",
            "2023-03-07 17:28:20.598606: I tensorflow/compiler/xla/stream_executor/cuda/cudart_stub.cc:29] Ignore above cudart dlerror if you do not have a GPU set up on your machine.\n",
            "2023-03-07 17:28:21.229114: W tensorflow/compiler/xla/stream_executor/platform/default/dso_loader.cc:64] Could not load dynamic library 'libnvinfer.so.7'; dlerror: libnvinfer.so.7: cannot open shared object file: No such file or directory; LD_LIBRARY_PATH: /home/lucassoares/.local/lib/python3.10/site-packages/cv2/../../lib64:\n",
            "2023-03-07 17:28:21.229212: W tensorflow/compiler/xla/stream_executor/platform/default/dso_loader.cc:64] Could not load dynamic library 'libnvinfer_plugin.so.7'; dlerror: libnvinfer_plugin.so.7: cannot open shared object file: No such file or directory; LD_LIBRARY_PATH: /home/lucassoares/.local/lib/python3.10/site-packages/cv2/../../lib64:\n",
            "2023-03-07 17:28:21.229222: W tensorflow/compiler/tf2tensorrt/utils/py_utils.cc:38] TF-TRT Warning: Cannot dlopen some TensorRT libraries. If you would like to use Nvidia GPU with TensorRT, please make sure the missing libraries mentioned above are installed properly.\n"
          ]
        }
      ],
      "source": [
        "from base64 import b64encode\n",
        "import cv2\n",
        "import mediapipe as mp\n",
        "import matplotlib.pyplot as plt\n",
        "import seaborn as sns\n",
        "sns.set()\n",
        "import numpy as np\n",
        "from natsort import natsorted\n",
        "from mpl_toolkits.mplot3d import Axes3D\n",
        "from matplotlib.animation import FuncAnimation\n",
        "from IPython.display import clear_output\n",
        "%matplotlib inline\n",
        "import pandas as pd\n",
        "import plotly.graph_objects as go\n",
        "import plotly.express as px\n",
        "from IPython.display import HTML, display\n",
        "import ipywidgets as widgets\n",
        "from typing import List # I don't think I need this!\n",
        "\n",
        "# Custom imports\n",
        "from pose_tracking_utils import *\n",
        "\n",
        "mp_drawing = mp.solutions.drawing_utils\n",
        "mp_drawing_styles = mp.solutions.drawing_styles\n",
        "mp_pose = mp.solutions.pose\n",
        "\n",
        "def create_pose_tracking_video(video_path):\n",
        "    # For webcam input:\n",
        "    cap = cv2.VideoCapture(video_path)\n",
        "    frame_width = int(cap.get(3))\n",
        "    frame_height = int(cap.get(4))\n",
        "    fourcc = cv2.VideoWriter_fourcc(*'mp4v')\n",
        "    output_path = pathlib.Path(video_path).stem + \"_pose.mp4\" \n",
        "    out = cv2.VideoWriter(output_path, fourcc, 30.0, (frame_width, frame_height))\n",
        "    with mp_pose.Pose(min_detection_confidence=0.5,\n",
        "                      min_tracking_confidence=0.5) as pose:\n",
        "        while cap.isOpened():\n",
        "            success, image = cap.read()\n",
        "            if not success:\n",
        "                print(\"Ignoring empty camera frame.\")\n",
        "                break\n",
        "            # To improve performance, optinally mark the iamge as \n",
        "            # not writeable to pass by reference.\n",
        "            image.flags.writeable = False\n",
        "            image= cv2.cvtColor(image, cv2.COLOR_BGR2RGB)\n",
        "            results = pose.process(image)\n",
        "            # Draw the annotation on the image.\n",
        "            image.flags.writeable = True\n",
        "            image = cv2.cvtColor(image, cv2.COLOR_RGB2BGR)\n",
        "            mp_drawing.draw_landmarks(image, results.pose_landmarks,\n",
        "                                      mp_pose.POSE_CONNECTIONS,\n",
        "            landmark_drawing_spec=mp_drawing_styles.get_default_pose_landmarks_style())\n",
        "            \n",
        "            # Flip the image horizontally for a self-view display.\n",
        "            out.write(cv2.flip(image, 1))\n",
        "            if cv2.waitKey(5) & 0xFF == 27:\n",
        "                break\n",
        "        \n",
        "    cap.release()\n",
        "    out.release()\n",
        "    print(\"Pose video created!\")\n",
        "    \n",
        "    return output_path"
      ]
    },
    {
      "attachments": {},
      "cell_type": "markdown",
      "metadata": {},
      "source": [
        "This essentially leverages the mediapipe package to generate a visualization that detects the keypoints and overlays them on top of the video footage."
      ]
    },
    {
      "attachments": {},
      "cell_type": "markdown",
      "metadata": {},
      "source": [
        "Ok, so now that I had these little videos (which are nice to look at but don't give exactly a lot of insight)\n",
        "I moved to creating some fancier plots.\n",
        "\n",
        "## 3D Plots with Pose Tracking\n",
        "\n",
        "![](./images/clip_pose_gif.gif)\n"
      ]
    },
    {
      "attachments": {},
      "cell_type": "markdown",
      "metadata": {},
      "source": [
        "These plots not only look cool, but they point to the main useful feature of this approach,\n",
        "I can now look at how the different parts of my body behave in time when attempting to perform the move!"
      ]
    },
    {
      "cell_type": "code",
      "execution_count": 2,
      "metadata": {},
      "outputs": [],
      "source": [
        "def create_animation_from_png(folder,anim_output_path='landmarks_plot_animation.mp4'):    \n",
        "    # Directory where the PNG files are stored\n",
        "    directory = '.'\n",
        "\n",
        "    # List all the PNG files in the directory\n",
        "    png_files = [f for f in os.listdir(directory) if f.endswith('.png')]\n",
        "\n",
        "    # Sort the files alphabetically (or numerically if the filenames contain numbers)\n",
        "    png_files = natsorted(png_files)\n",
        "\n",
        "    # Create a writer object to write the video\n",
        "    writer = imageio.get_writer(anim_output_path, fps=30)\n",
        "\n",
        "    # Iterate over the PNG files and add them to the video\n",
        "    for png_file in png_files:\n",
        "        # Read the PNG file as a numpy array\n",
        "        image = imageio.imread(os.path.join(directory, png_file))\n",
        "        # Add the image to the video\n",
        "        writer.append_data(image)\n",
        "        os.remove(png_file)\n",
        "\n",
        "    # Close the writer object\n",
        "    writer.close()\n",
        "\n",
        "\n",
        "def create_landmarks_plot3D_animation(video_path, output_path):      \n",
        "    i=0\n",
        "    # For video input\n",
        "    cap = cv2.VideoCapture(video_path)\n",
        "    with mp_pose.Pose(\n",
        "        min_detection_confidence=0.5,\n",
        "        min_tracking_confidence=0.5) as pose:\n",
        "      while cap.isOpened():\n",
        "        success, image = cap.read()\n",
        "        if not success:\n",
        "          print(\"Ignoring empty camera frame.\")\n",
        "          # If loading a video, use 'break' instead of 'continue'.\n",
        "          break\n",
        "        # To improve performance, optionally mark the image as not writeable to\n",
        "        # pass by reference.\n",
        "        image.flags.writeable = False\n",
        "        image = cv2.cvtColor(image, cv2.COLOR_BGR2RGB)\n",
        "        results = pose.process(image)\n",
        "        mp_drawing.plot_landmarks_and_save(\n",
        "            results.pose_world_landmarks, mp_pose.POSE_CONNECTIONS, plot_index=i)\n",
        "        if cv2.waitKey(1) & 0xFF == 27:\n",
        "          break\n",
        "        \n",
        "        i+=1\n",
        "        \n",
        "\n",
        "    cap.release()\n",
        "    create_animation_from_png(folder=\".\", anim_output_path=output_path)\n",
        "\n",
        "anim_output_path = f\"./{VIDEO_PATH[:-4]}_anim_landmarks3D.mp4\"\n",
        "create_landmarks_plot3D_animation(VIDEO_PATH, anim_output_path)"
      ]
    },
    {
      "attachments": {},
      "cell_type": "markdown",
      "metadata": {},
      "source": [
        "Here I essentially use a similar approach with the exception of modifying a function in the source code of the mediapipe drawing functionality to be able to save images of the plots with the 3D plots of the landmarks (the body joints) and then create a gif animation from those figures."
      ]
    },
    {
      "attachments": {},
      "cell_type": "markdown",
      "metadata": {},
      "source": [
        "Now that I was confident that the model was properly capturing my body pose, I created some trace visualizations of relevant body joints like the feet (which is really important when performing takedown techniques).\n",
        "\n",
        "# 3. Creating Traces of Motion\n",
        "\n",
        "To have an idea of how the move is performed I produced a visualization that represented the execution of that movement from the perspective of a body part, in this case the feet:\n",
        "\n",
        "![](images/clip_training_session_2_trace.gif)\n",
        "\n",
        "I did it both for my training sessions and for the reference video containing the\n",
        "motion I was trying to imitate. It's important to note here that there are many issues with doing this that regard the resolution of the camera, the distance at which the movements were performed as well as the frame rate of the recording of each video, however I am just going to bypass all of that to create a fancy plot (LoL).\n",
        "\n",
        "![](images/uchimata_wall_trace.gif)"
      ]
    },
    {
      "attachments": {},
      "cell_type": "markdown",
      "metadata": {},
      "source": [
        "Again the code for this approach:"
      ]
    },
    {
      "cell_type": "code",
      "execution_count": 3,
      "metadata": {},
      "outputs": [],
      "source": [
        "def create_joint_trace_video(video_path,body_part_index=32, color_rgb=(255,0,0)):\n",
        "    \"\"\"\n",
        "    This function creates a trace of the body part being tracked.\n",
        "    body_part_index: The index of the body part being tracked.\n",
        "    video_path: The path to the video being analysed.\n",
        "    \"\"\"\n",
        "    # Initialize MediaPipe Pose modelpose = mp_pose.Pose(static_image_mode=False, min_detection_confidence=0.5, min_tracking_confidence=0.5)\n",
        "\n",
        "    # Initialize OpenCV VideoCapture object to capture video from the camera\n",
        "    cap = cv2.VideoCapture(video_path)\n",
        "    frame_width = int(cap.get(3))\n",
        "    frame_height = int(cap.get(4))\n",
        "    fourcc = cv2.VideoWriter_fourcc(*'mp4v')\n",
        "    output_path = pathlib.Path(video_path).stem + \"_trace.mp4\" \n",
        "    out = cv2.VideoWriter(output_path, fourcc, 30.0, (frame_width, frame_height))\n",
        "\n",
        "    # Create an empty list to store the trace of the body part being tracked\n",
        "    trace = []\n",
        "\n",
        "    with mp_pose.Pose(min_detection_confidence=0.5,\n",
        "                        min_tracking_confidence=0.5) as pose:\n",
        "        while cap.isOpened():\n",
        "            success, image = cap.read()\n",
        "            if not success:\n",
        "                print(\"Ignoring empty camera frame.\")\n",
        "                break\n",
        "\n",
        "            # Convert the frame to RGB format\n",
        "            image = cv2.cvtColor(image, cv2.COLOR_BGR2RGB)\n",
        "\n",
        "            # Process the frame with MediaPipe Pose model\n",
        "            results = pose.process(image)\n",
        "\n",
        "            # Check if any body parts are detected\n",
        "            if results.pose_landmarks:\n",
        "                # Get the x,y coordinates of the body part being tracked (in this case, the right elbow)\n",
        "                x, y = int(results.pose_landmarks.landmark[body_part_index].x * image.shape[1]), int(results.pose_landmarks.landmark[body_part_index].y * image.shape[0])\n",
        "                \n",
        "                # Add the coordinates to the trace list\n",
        "                trace.append((x, y))\n",
        "\n",
        "                # Draw the trace on the image\n",
        "                for i in range(len(trace)-1):\n",
        "                    cv2.line(image, trace[i], trace[i+1], color_rgb, thickness=2)\n",
        "            \n",
        "            # Convert the image back to BGR format for display\n",
        "            image = cv2.cvtColor(image, cv2.COLOR_RGB2BGR)\n",
        "\n",
        "            # Display the image\n",
        "            out.write(image)\n",
        "            if cv2.waitKey(5) & 0xFF == 27:\n",
        "                break\n",
        "        \n",
        "    cap.release()\n",
        "    out.release()\n",
        "    print(\"Joint Trace video created!\")"
      ]
    },
    {
      "attachments": {},
      "cell_type": "markdown",
      "metadata": {},
      "source": [
        "Here I am simply processing each frame as I did before to produce the pose videos, however I am also appending the x,y coordinates of the particular body part into a list I call `trace` which is used to produce the\n",
        "tracing line that accompanies the body part throughout the video. "
      ]
    },
    {
      "attachments": {},
      "cell_type": "markdown",
      "metadata": {},
      "source": [
        "# 4. Comparing the Traces\n",
        "\n",
        "In posession of these capabilities I could finally get into the part of gathering insights from this approach.\n",
        "\n",
        "To do that I needed a way to compare these traces in order to produce some type of visually rich feedback that could help me understand how my poor execution of the movement compared to that of an elite athlete."
      ]
    },
    {
      "attachments": {},
      "cell_type": "markdown",
      "metadata": {},
      "source": [
        "Now, the actual traces without the video in the background were plotted into a graph."
      ]
    },
    {
      "cell_type": "code",
      "execution_count": 5,
      "metadata": {},
      "outputs": [
        {
          "name": "stdout",
          "output_type": "stream",
          "text": [
            "Ignoring empty camera frame.\n"
          ]
        },
        {
          "data": {
            "image/png": "[encoded data removed]",
            "text/plain": [
              "<Figure size 640x480 with 2 Axes>"
            ]
          },
          "metadata": {},
          "output_type": "display_data"
        }
      ],
      "source": [
        "def get_joint_trace_data(video_path, body_part_index,xmin=300,xmax=1000,\n",
        "                             ymin=200,ymax=800):\n",
        "    \"\"\"\n",
        "    Creates a graph with the tracing of a particular body part,\n",
        "    while executing a certain movement.\n",
        "    \"\"\"\n",
        "    cap = cv2.VideoCapture(video_path)\n",
        "    frame_width = int(cap.get(3))\n",
        "    frame_height = int(cap.get(4))\n",
        "\n",
        "    # Create an empty list to store the trace of the body part being tracked\n",
        "    trace = []\n",
        "    i = 0\n",
        "    with mp_pose.Pose(min_detection_confidence=0.5,\n",
        "                    min_tracking_confidence=0.5) as pose:\n",
        "        while cap.isOpened():\n",
        "            success, image = cap.read()\n",
        "            if not success:\n",
        "                print(\"Ignoring empty camera frame.\")\n",
        "                break\n",
        "\n",
        "            # Convert the frame to RGB format\n",
        "            image = cv2.cvtColor(image, cv2.COLOR_BGR2RGB)\n",
        "\n",
        "            # Process the frame with MediaPipe Pose model\n",
        "            results = pose.process(image)\n",
        "\n",
        "            # Check if any body parts are detected\n",
        "            if results.pose_landmarks:\n",
        "                # Get the x,y coordinates of the body part being tracked (in this case, the right elbow)\n",
        "                x, y = int(results.pose_landmarks.landmark[body_part_index].x * image.shape[1]), int(results.pose_landmarks.landmark[body_part_index].y * image.shape[0])\n",
        "\n",
        "                # Add the coordinates to the trace list\n",
        "                trace.append((x, y))\n",
        "\n",
        "                # Plot the trace on the graph\n",
        "                fig, ax = plt.subplots()\n",
        "                #ax.imshow(image)\n",
        "                ax.set_xlim(xmin,xmax)\n",
        "                ax.set_ylim(ymin,ymax)\n",
        "                ax.invert_yaxis()\n",
        "                ax.plot(np.array(trace)[:, 0], np.array(trace)[:, 1], color='r')\n",
        "                # plt.savefig(f'joint_trace{i}.png')\n",
        "                # plt.close()\n",
        "                i+=1\n",
        "                plt.pause(0.00000000001)\n",
        "                clear_output(wait=True)\n",
        "                # Display the graph\n",
        "                #plt.show()\n",
        "            \n",
        "            if cv2.waitKey(5) & 0xFF == 27:\n",
        "                break\n",
        "        \n",
        "        cap.release()\n",
        "        \n",
        "        return trace\n",
        "\n",
        "video_path = \"./videos/clip_training_session_2.mp4\"\n",
        "body_part_index = 31\n",
        "foot_trace = get_joint_trace_data(video_path, body_part_index)\n",
        "\n",
        "video_path = \"./videos/uchimata_wall.mp4\"\n",
        "body_part_index = 31\n",
        "foot_trace_reference = get_joint_trace_data(video_path, body_part_index,xmin=0,ymin=0,xmax=1300)\n",
        "\n",
        "foot_trace_clip = foot_trace[:len(foot_trace_reference)]\n",
        "plt.subplot(1,2,1)\n",
        "plt.plot(np.array(foot_trace_clip)[:, 0], np.array(foot_trace_clip)[:, 1], color='r')\n",
        "plt.gca().invert_yaxis();\n",
        "\n",
        "plt.subplot(1,2,2)\n",
        "plt.plot(np.array(foot_trace_reference)[:, 0], np.array(foot_trace_reference)[:, 1], color='g')\n",
        "plt.gca().invert_yaxis();"
      ]
    },
    {
      "attachments": {},
      "cell_type": "markdown",
      "metadata": {},
      "source": [
        "Ok, with this we start to see more clearly the differences between the signature shape of the foot moving in different contexts. First we see that while the elite player does more of a straight step into a turn, generating an almost complete half circle with his feet, I on the other hand have this curvature appearance to my initial step inside, and also do not create a half circle when throwing my leg in the air.\n",
        "\n",
        "Also, while the elite player generates a wide circle when moving his leg up, I create a shallow circle almost like an elipse."
      ]
    },
    {
      "attachments": {},
      "cell_type": "markdown",
      "metadata": {},
      "source": [
        "![](./images/trace_compare_annotated.png)\n",
        "\n",
        "**Add caption!**"
      ]
    },
    {
      "attachments": {},
      "cell_type": "markdown",
      "metadata": {},
      "source": [
        "I found these preliminary results to be quite nice because they indicate that, despite the limitations of the comparison, one can gauge differences regarding the signature shape of the movement's execution just by observing traces like these.\n",
        "\n",
        "Besides that, I wanted to see if I could make comparisons regarding the speed with which the moves are performed, to analyse that I visualized the realtime motion of the coordinates of the body joints in time, putting the plots of me and the expert side by side to\n",
        "see how off is my timing.\n",
        "\n",
        "**show the plot here!**"
      ]
    }
  ],
  "metadata": {
    "colab": {
      "provenance": []
    },
    "kernelspec": {
      "display_name": "explore",
      "language": "python",
      "name": "explore"
    },
    "language_info": {
      "codemirror_mode": {
        "name": "ipython",
        "version": 3
      },
      "file_extension": ".py",
      "mimetype": "text/x-python",
      "name": "python",
      "nbconvert_exporter": "python",
      "pygments_lexer": "ipython3",
      "version": "3.10.9"
    }
  },
  "nbformat": 4,
  "nbformat_minor": 0
}
